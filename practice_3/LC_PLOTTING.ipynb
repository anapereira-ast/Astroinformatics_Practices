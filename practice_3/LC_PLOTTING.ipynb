{
 "cells": [
  {
   "cell_type": "code",
   "execution_count": null,
   "id": "f7760823-9598-415f-bb74-07ce8f26285d",
   "metadata": {},
   "outputs": [],
   "source": [
    "import pandas as pd\n",
    "import matplotlib.pyplot as plt\n",
    "from astropy.stats import sigma_clip\n",
    "import glob\n",
    "import re\n",
    "\n",
    "\n",
    "# Replace the path below with the location where your CSV light curve files are stored\n",
    "\n",
    "tess_lc = glob.glob(\"/Users/anapereira/Documents/tess_practice/CSV_FILES/tess_lc_*.csv\")\n",
    "\n",
    "\n",
    "for filename in tess_lc:\n",
    "    # to read the csv file\n",
    "    df = pd.read_csv(filename)\n",
    "    \n",
    "    # remove nan values\n",
    "    df = df[[\"TIME\", \"PDCSAP_FLUX\", \"PDCSAP_FLUX_ERR\"]].dropna()\n",
    "    \n",
    "    # Identify outliers with sigma clipping \n",
    "    s_clip = sigma_clip(df[\"PDCSAP_FLUX\"], sigma_upper=3, sigma_lower=None)\n",
    "    mask = s_clip.mask\n",
    "    normal = df[~mask]\n",
    "    outliers = df[mask]\n",
    "\n",
    "    # Graph\n",
    "    plt.figure(figsize=(10, 5))\n",
    "    plt.errorbar(normal[\"TIME\"], normal[\"PDCSAP_FLUX\"], yerr=normal[\"PDCSAP_FLUX_ERR\"],\n",
    "             fmt='.', alpha=0.4, color=\"dimgrey\")\n",
    "\n",
    "    plt.errorbar(outliers[\"TIME\"], outliers[\"PDCSAP_FLUX\"], yerr=outliers[\"PDCSAP_FLUX_ERR\"],\n",
    "             fmt='.', alpha=0.7, color=\"palevioletred\", label=\"Outliers\")\n",
    "\n",
    "    # Extract the number from the filename to put in plot the title \n",
    "    match = re.search(r'tess_lc_(\\d+)', filename)\n",
    "    name = match.group(1) if match else filename\n",
    "    \n",
    "    plt.title(f\"TESS Light Curve {name}\")\n",
    "    plt.xlabel(\"Time - 2457000 [BJD days]\")\n",
    "    plt.ylabel(\"Flux (PDCSAP) [e-/s]\")\n",
    "    plt.legend()\n",
    "    plt.grid(False)\n",
    "    plt.tight_layout()\n",
    "    plt.savefig(filename.replace(\".csv\", \".png\"))\n",
    "    plt.show()"
   ]
  },
  {
   "cell_type": "code",
   "execution_count": null,
   "id": "bd4aa890-a70b-4e4e-8137-721eb43ee924",
   "metadata": {},
   "outputs": [],
   "source": []
  }
 ],
 "metadata": {
  "kernelspec": {
   "display_name": "Python 3 (ipykernel)",
   "language": "python",
   "name": "python3"
  },
  "language_info": {
   "codemirror_mode": {
    "name": "ipython",
    "version": 3
   },
   "file_extension": ".py",
   "mimetype": "text/x-python",
   "name": "python",
   "nbconvert_exporter": "python",
   "pygments_lexer": "ipython3",
   "version": "3.13.3"
  }
 },
 "nbformat": 4,
 "nbformat_minor": 5
}
