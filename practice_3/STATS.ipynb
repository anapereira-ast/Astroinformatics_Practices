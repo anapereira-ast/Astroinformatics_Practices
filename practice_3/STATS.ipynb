{
 "cells": [
  {
   "cell_type": "code",
   "execution_count": null,
   "id": "dc99739b-fd9b-4aee-9696-417d77dd4b56",
   "metadata": {},
   "outputs": [],
   "source": [
    "# Import libraries\n",
    "import pandas as pd\n",
    "\n",
    "lightcurves = [\"tess_lc_696.csv\", \"tess_lc_736.csv\"] \n",
    "\n",
    "# to save the results \n",
    "results = []\n",
    "\n",
    "for lc in lightcurves:\n",
    "    df = pd.read_csv(lc)\n",
    "\n",
    "    # remove nan values\n",
    "    flux = df[\"PDCSAP_FLUX\"].dropna()\n",
    "    \n",
    "    # Stats calculation\n",
    "    stats = {\n",
    "        \"name\": lc,\n",
    "        \"amplitude\": flux.max() - flux.min(),\n",
    "        \"mean\": flux.mean(),\n",
    "        \"median\": flux.median(),\n",
    "        \"standard deviation\": flux.std(),\n",
    "        \"skewness\": flux.skew(),\n",
    "        \"kurtosis\": flux.kurtosis()\n",
    "    }\n",
    "\n",
    "    results.append(stats)\n",
    "\n",
    "# to save as csv file \n",
    "df_stats = pd.DataFrame(results)\n",
    "df_stats.to_csv(\"stats_lc.csv\", index=False)\n",
    "\n",
    "df_stats"
   ]
  }
 ],
 "metadata": {
  "kernelspec": {
   "display_name": "Python 3 (ipykernel)",
   "language": "python",
   "name": "python3"
  },
  "language_info": {
   "codemirror_mode": {
    "name": "ipython",
    "version": 3
   },
   "file_extension": ".py",
   "mimetype": "text/x-python",
   "name": "python",
   "nbconvert_exporter": "python",
   "pygments_lexer": "ipython3",
   "version": "3.13.3"
  }
 },
 "nbformat": 4,
 "nbformat_minor": 5
}
