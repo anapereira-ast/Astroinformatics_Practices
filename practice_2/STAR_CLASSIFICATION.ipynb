{
 "cells": [
  {
   "cell_type": "code",
   "execution_count": 4,
   "id": "c90ac252-8820-4466-a911-3d882cc02400",
   "metadata": {},
   "outputs": [
    {
     "name": "stdin",
     "output_type": "stream",
     "text": [
      "Enter the star temperature in Kelvin:  5772\n"
     ]
    },
    {
     "name": "stdout",
     "output_type": "stream",
     "text": [
      "Your star is a G type\n"
     ]
    }
   ],
   "source": [
    "temperature = float(input(\"Enter the star temperature in Kelvin: \"))\n",
    "if temperature<60000.0 and temperature>=30000.0:\n",
    "    print('Your star is a O type')\n",
    "elif temperature>=10000.0 and temperature<30000.0:\n",
    "    print('Your star is a B type')\n",
    "elif temperature>=7500.0 and temperature<10000.0:\n",
    "    print('Your star is a A type')\n",
    "elif temperature>=6000.0 and temperature<7500.0:\n",
    "    print('Your star is a F type')\n",
    "elif temperature>=5000.0 and temperature<6000.0:\n",
    "    print('Your star is a G type')\n",
    "elif temperature>=3500.0 and temperature<5000.0:\n",
    "    print('Your star is a K type')\n",
    "elif temperature>=2000.0 and temperature<3500.0:\n",
    "    print('Your star is a M type')\n",
    "else:\n",
    "    print(\"Temperature out of classified range\")"
   ]
  },
  {
   "cell_type": "code",
   "execution_count": 5,
   "id": "db1e9c94-4b0e-48b0-a9f0-6454474f9fe1",
   "metadata": {},
   "outputs": [
    {
     "name": "stdout",
     "output_type": "stream",
     "text": [
      "Give me a date\n"
     ]
    },
    {
     "name": "stdin",
     "output_type": "stream",
     "text": [
      "day:  7\n",
      "month (for example: Jan, JAN, Feb, jun, etc..):  JUN\n",
      "year:  2008\n"
     ]
    },
    {
     "name": "stdout",
     "output_type": "stream",
     "text": [
      "The julian day is: 2454624\n"
     ]
    }
   ],
   "source": [
    "print(\"Give me a date\")\n",
    "day = int(input(\"day: \"))\n",
    "month = input(\"month (for example: Jan, JAN, Feb, jun, etc..): \")\n",
    "\n",
    "month_number = {\n",
    "    \"Jan\": 13, \"Feb\": 14, \"Mar\": 3, \"Apr\": 4, \"May\": 5, \"Jun\": 6,\n",
    "    \"Jul\": 7, \"Aug\": 8, \"Sep\": 9, \"Oct\": 10, \"Nov\": 11, \"Dec\": 12\n",
    "}\n",
    "month = month_number.get(month.capitalize())\n",
    "\n",
    "year = int(input(\"year: \"))\n",
    "\n",
    "\n",
    "    \n",
    "if month == 13 or month ==14:\n",
    "    year = year - 1\n",
    "    julian = int((36525 * year) / 100 + (306001 * (month + 1)) / 10000 + day + 1720981)\n",
    "    print(\"The julian day is:\", julian)\n",
    "else:\n",
    "    julian = int((36525 * year) / 100 + (306001 * (month + 1)) / 10000 + day + 1720981)\n",
    "    print(\"The julian day is:\", julian)\n",
    "\n"
   ]
  }
 ],
 "metadata": {
  "kernelspec": {
   "display_name": "Python 3 (ipykernel)",
   "language": "python",
   "name": "python3"
  },
  "language_info": {
   "codemirror_mode": {
    "name": "ipython",
    "version": 3
   },
   "file_extension": ".py",
   "mimetype": "text/x-python",
   "name": "python",
   "nbconvert_exporter": "python",
   "pygments_lexer": "ipython3",
   "version": "3.13.3"
  }
 },
 "nbformat": 4,
 "nbformat_minor": 5
}
