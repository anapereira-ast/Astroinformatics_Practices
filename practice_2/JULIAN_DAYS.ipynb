{
 "cells": [
  {
   "cell_type": "code",
   "execution_count": null,
   "id": "e1a3f787-17d3-434c-99fb-fd212ba199dc",
   "metadata": {},
   "outputs": [],
   "source": [
    "print(\"Give me a date\")\n",
    "day = int(input(\"day: \"))\n",
    "month = input(\"month (for example: Jan, JAN, Feb, jun, etc..): \")\n",
    "\n",
    "month_number = {\n",
    "    \"Jan\": 13, \"Feb\": 14, \"Mar\": 3, \"Apr\": 4, \"May\": 5, \"Jun\": 6,\n",
    "    \"Jul\": 7, \"Aug\": 8, \"Sep\": 9, \"Oct\": 10, \"Nov\": 11, \"Dec\": 12\n",
    "}\n",
    "month = month_number.get(month.capitalize())\n",
    "\n",
    "year = int(input(\"year: \"))\n",
    "\n",
    "\n",
    "    \n",
    "if month == 13 or month ==14:\n",
    "    year = year - 1\n",
    "    julian = int((36525 * year) / 100 + (306001 * (month + 1)) / 10000 + day + 1720981)\n",
    "    print(\"The julian day is:\", julian)\n",
    "else:\n",
    "    julian = int((36525 * year) / 100 + (306001 * (month + 1)) / 10000 + day + 1720981)\n",
    "    print(\"The julian day is:\", julian)\n"
   ]
  }
 ],
 "metadata": {
  "kernelspec": {
   "display_name": "Python 3 (ipykernel)",
   "language": "python",
   "name": "python3"
  },
  "language_info": {
   "codemirror_mode": {
    "name": "ipython",
    "version": 3
   },
   "file_extension": ".py",
   "mimetype": "text/x-python",
   "name": "python",
   "nbconvert_exporter": "python",
   "pygments_lexer": "ipython3",
   "version": "3.13.3"
  }
 },
 "nbformat": 4,
 "nbformat_minor": 5
}
